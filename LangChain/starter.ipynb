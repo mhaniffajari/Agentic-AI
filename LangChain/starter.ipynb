{
 "cells": [
  {
   "cell_type": "markdown",
   "id": "57d7bd94",
   "metadata": {},
   "source": []
  },
  {
   "cell_type": "code",
   "execution_count": null,
   "id": "53a61fe2",
   "metadata": {
    "vscode": {
     "languageId": "plaintext"
    }
   },
   "outputs": [],
   "source": []
  }
 ],
 "metadata": {
  "language_info": {
   "name": "python"
  }
 },
 "nbformat": 4,
 "nbformat_minor": 5
}
